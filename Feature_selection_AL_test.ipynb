{
 "cells": [
  {
   "cell_type": "code",
   "execution_count": 14,
   "source": [
    "#first import all the required library,let's first use breast wine dataset\r\n",
    "from sklearn.datasets import load_breast_cancer\r\n",
    "from sklearn.model_selection import cross_val_score\r\n",
    "from sklearn.model_selection import train_test_split\r\n",
    "import pandas as pd\r\n",
    "import numpy as np\r\n",
    "from modAL.models import ActiveLearner\r\n",
    "from modAL.uncertainty import uncertainty_sampling\r\n",
    "from sklearn.ensemble import RandomForestClassifier\r\n",
    "from IPython import display\r\n",
    "import LeeExperimentToolkit as lee\r\n",
    "from matplotlib import pyplot as plt\r\n",
    "from sklearn.datasets import load_wine\r\n",
    "import random\r\n",
    "%matplotlib inline\r\n",
    "from sklearn.tree import DecisionTreeClassifier"
   ],
   "outputs": [],
   "metadata": {}
  },
  {
   "cell_type": "markdown",
   "source": [
    "first thing is to get a initial dataset to fit in active learning"
   ],
   "metadata": {}
  },
  {
   "cell_type": "code",
   "execution_count": 2,
   "source": [
    "X, y = load_wine(return_X_y=True,as_frame=True)"
   ],
   "outputs": [],
   "metadata": {}
  },
  {
   "cell_type": "markdown",
   "source": [
    "use Leetoolkit library we can get a dataset with onehot representation oof feature and its associated cv means"
   ],
   "metadata": {}
  },
  {
   "cell_type": "code",
   "execution_count": 3,
   "source": [
    "X_initial, y_initial = lee.PerformanceHandler.train_dataset_with_random_features(X,y,RandomForestClassifier(),2000)#get a dataset with size of 2000"
   ],
   "outputs": [],
   "metadata": {}
  },
  {
   "cell_type": "code",
   "execution_count": 4,
   "source": [
    "#see the information of two dataset\r\n",
    "X_initial.head()"
   ],
   "outputs": [
    {
     "output_type": "execute_result",
     "data": {
      "text/html": [
       "<div>\n",
       "<style scoped>\n",
       "    .dataframe tbody tr th:only-of-type {\n",
       "        vertical-align: middle;\n",
       "    }\n",
       "\n",
       "    .dataframe tbody tr th {\n",
       "        vertical-align: top;\n",
       "    }\n",
       "\n",
       "    .dataframe thead th {\n",
       "        text-align: right;\n",
       "    }\n",
       "</style>\n",
       "<table border=\"1\" class=\"dataframe\">\n",
       "  <thead>\n",
       "    <tr style=\"text-align: right;\">\n",
       "      <th></th>\n",
       "      <th>0</th>\n",
       "      <th>1</th>\n",
       "      <th>2</th>\n",
       "      <th>3</th>\n",
       "      <th>4</th>\n",
       "      <th>5</th>\n",
       "      <th>6</th>\n",
       "      <th>7</th>\n",
       "      <th>8</th>\n",
       "      <th>9</th>\n",
       "      <th>10</th>\n",
       "      <th>11</th>\n",
       "      <th>12</th>\n",
       "    </tr>\n",
       "  </thead>\n",
       "  <tbody>\n",
       "    <tr>\n",
       "      <th>0</th>\n",
       "      <td>1</td>\n",
       "      <td>1</td>\n",
       "      <td>1</td>\n",
       "      <td>0</td>\n",
       "      <td>1</td>\n",
       "      <td>1</td>\n",
       "      <td>1</td>\n",
       "      <td>1</td>\n",
       "      <td>1</td>\n",
       "      <td>1</td>\n",
       "      <td>1</td>\n",
       "      <td>1</td>\n",
       "      <td>1</td>\n",
       "    </tr>\n",
       "    <tr>\n",
       "      <th>1</th>\n",
       "      <td>1</td>\n",
       "      <td>1</td>\n",
       "      <td>0</td>\n",
       "      <td>1</td>\n",
       "      <td>1</td>\n",
       "      <td>1</td>\n",
       "      <td>1</td>\n",
       "      <td>1</td>\n",
       "      <td>1</td>\n",
       "      <td>1</td>\n",
       "      <td>1</td>\n",
       "      <td>1</td>\n",
       "      <td>1</td>\n",
       "    </tr>\n",
       "    <tr>\n",
       "      <th>2</th>\n",
       "      <td>1</td>\n",
       "      <td>1</td>\n",
       "      <td>0</td>\n",
       "      <td>1</td>\n",
       "      <td>0</td>\n",
       "      <td>1</td>\n",
       "      <td>0</td>\n",
       "      <td>1</td>\n",
       "      <td>1</td>\n",
       "      <td>1</td>\n",
       "      <td>0</td>\n",
       "      <td>1</td>\n",
       "      <td>1</td>\n",
       "    </tr>\n",
       "    <tr>\n",
       "      <th>3</th>\n",
       "      <td>0</td>\n",
       "      <td>0</td>\n",
       "      <td>1</td>\n",
       "      <td>1</td>\n",
       "      <td>1</td>\n",
       "      <td>0</td>\n",
       "      <td>1</td>\n",
       "      <td>1</td>\n",
       "      <td>1</td>\n",
       "      <td>1</td>\n",
       "      <td>1</td>\n",
       "      <td>0</td>\n",
       "      <td>1</td>\n",
       "    </tr>\n",
       "    <tr>\n",
       "      <th>4</th>\n",
       "      <td>0</td>\n",
       "      <td>1</td>\n",
       "      <td>0</td>\n",
       "      <td>0</td>\n",
       "      <td>0</td>\n",
       "      <td>1</td>\n",
       "      <td>1</td>\n",
       "      <td>0</td>\n",
       "      <td>0</td>\n",
       "      <td>0</td>\n",
       "      <td>1</td>\n",
       "      <td>1</td>\n",
       "      <td>0</td>\n",
       "    </tr>\n",
       "  </tbody>\n",
       "</table>\n",
       "</div>"
      ],
      "text/plain": [
       "   0   1   2   3   4   5   6   7   8   9   10  11  12\n",
       "0   1   1   1   0   1   1   1   1   1   1   1   1   1\n",
       "1   1   1   0   1   1   1   1   1   1   1   1   1   1\n",
       "2   1   1   0   1   0   1   0   1   1   1   0   1   1\n",
       "3   0   0   1   1   1   0   1   1   1   1   1   0   1\n",
       "4   0   1   0   0   0   1   1   0   0   0   1   1   0"
      ]
     },
     "metadata": {},
     "execution_count": 4
    }
   ],
   "metadata": {}
  },
  {
   "cell_type": "code",
   "execution_count": 18,
   "source": [
    "y_initial.value_counts()"
   ],
   "outputs": [
    {
     "output_type": "execute_result",
     "data": {
      "text/plain": [
       "8    828\n",
       "7    555\n",
       "6    157\n",
       "5    104\n",
       "4     63\n",
       "3     53\n",
       "2     30\n",
       "0     16\n",
       "1     15\n",
       "Name: 14, dtype: int64"
      ]
     },
     "metadata": {},
     "execution_count": 18
    }
   ],
   "metadata": {}
  },
  {
   "cell_type": "markdown",
   "source": [
    "now we split this dataset into trainning and testing dataset"
   ],
   "metadata": {}
  },
  {
   "cell_type": "code",
   "execution_count": 8,
   "source": [
    "X_train,X_test,y_train,y_test = train_test_split(X_initial,y_initial,test_size=0.5)"
   ],
   "outputs": [],
   "metadata": {}
  },
  {
   "cell_type": "code",
   "execution_count": 9,
   "source": [
    "#see information of test set, we will test all iteration by this test size so we keep it bigger\r\n",
    "len(y_test)"
   ],
   "outputs": [
    {
     "output_type": "execute_result",
     "data": {
      "text/plain": [
       "911"
      ]
     },
     "metadata": {},
     "execution_count": 9
    }
   ],
   "metadata": {}
  },
  {
   "cell_type": "code",
   "execution_count": 10,
   "source": [
    "def Change_float_into_classes(num):\r\n",
    "    if num> 0.95:\r\n",
    "        return 8\r\n",
    "    elif num > 0.9:\r\n",
    "        return 7\r\n",
    "    elif num > 0.85:\r\n",
    "        return 6\r\n",
    "    elif num > 0.8:\r\n",
    "        return 5\r\n",
    "    elif num > 0.75:\r\n",
    "        return 4\r\n",
    "    elif num > 0.7:\r\n",
    "        return 3\r\n",
    "    elif num > 0.65:\r\n",
    "        return 2\r\n",
    "    elif num > 0.6:\r\n",
    "        return 1\r\n",
    "    else:\r\n",
    "        return 0"
   ],
   "outputs": [],
   "metadata": {}
  },
  {
   "cell_type": "markdown",
   "source": [
    "now let's create the pool, the pool should be different combination of feature compare to the initial set, we can use lee library to do this"
   ],
   "metadata": {}
  },
  {
   "cell_type": "code",
   "execution_count": 15,
   "source": [
    "X_pool = lee.PerformanceHandler.pool_generator(X_initial,2000)"
   ],
   "outputs": [],
   "metadata": {}
  },
  {
   "cell_type": "code",
   "execution_count": 16,
   "source": [
    "X_pool = np.array(X_pool)"
   ],
   "outputs": [],
   "metadata": {}
  },
  {
   "cell_type": "code",
   "execution_count": 17,
   "source": [
    "N_QUERIES = 100\r\n",
    "X_train =np.array(X_train)\r\n",
    "y_train = np.array(y_train)\r\n",
    "learner = ActiveLearner(estimator=DecisionTreeClassifier(),X_training=X_train,y_training=y_train)\r\n",
    "unqueried_score = [learner.score(X_test, y_test)]\r\n",
    "performance_history = [unqueried_score]\r\n",
    "\r\n",
    "# Allow our model to query our unlabeled dataset for the most\r\n",
    "# informative points according to our query strategy (uncertainty sampling).\r\n",
    "for index in range(N_QUERIES):\r\n",
    "  query_index, query_instance = learner.query(X_pool)\r\n",
    "\r\n",
    "  # Teach our ActiveLearner model the record it has requested.\r\n",
    "  X_Iterate = X.iloc[:,query_instance[0].tolist()]\r\n",
    "  y_new = np.array([Change_float_into_classes(cross_val_score(estimator=RandomForestClassifier(),X = X_Iterate,y = y,cv=4).mean())], dtype=int)\r\n",
    "  X_1, y_1 = X_pool[query_index].reshape(1, -1), y_new.reshape(1,)\r\n",
    "  learner.teach(X=X_1, y=y_1)\r\n",
    "  # Remove the queried instance from the unlabeled pool.\r\n",
    "  X_pool = np.delete(X_pool, query_index, axis=0)\r\n",
    "  # Calculate and report our model's accuracy.\r\n",
    "  model_accuracy = learner.score(X_test, y_test)\r\n",
    "  print('Accuracy after query {n}: {acc:0.4f}'.format(n=index + 1, acc=model_accuracy))\r\n",
    "\r\n",
    "  # Save our model's performance for plotting.\r\n",
    "  performance_history.append(model_accuracy)"
   ],
   "outputs": [
    {
     "output_type": "stream",
     "name": "stdout",
     "text": [
      "Accuracy after query 1: 0.7344\n",
      "Accuracy after query 2: 0.7311\n",
      "Accuracy after query 3: 0.7387\n",
      "Accuracy after query 4: 0.7398\n",
      "Accuracy after query 5: 0.7377\n",
      "Accuracy after query 6: 0.7398\n",
      "Accuracy after query 7: 0.7431\n",
      "Accuracy after query 8: 0.7420\n",
      "Accuracy after query 9: 0.7475\n",
      "Accuracy after query 10: 0.7398\n",
      "Accuracy after query 11: 0.7355\n",
      "Accuracy after query 12: 0.7420\n",
      "Accuracy after query 13: 0.7453\n",
      "Accuracy after query 14: 0.7387\n",
      "Accuracy after query 15: 0.7245\n",
      "Accuracy after query 16: 0.7267\n",
      "Accuracy after query 17: 0.7387\n",
      "Accuracy after query 18: 0.7377\n",
      "Accuracy after query 19: 0.7256\n",
      "Accuracy after query 20: 0.7355\n",
      "Accuracy after query 21: 0.7300\n",
      "Accuracy after query 22: 0.7300\n",
      "Accuracy after query 23: 0.7267\n",
      "Accuracy after query 24: 0.7245\n",
      "Accuracy after query 25: 0.7289\n",
      "Accuracy after query 26: 0.7322\n",
      "Accuracy after query 27: 0.7234\n",
      "Accuracy after query 28: 0.7344\n",
      "Accuracy after query 29: 0.7256\n",
      "Accuracy after query 30: 0.7168\n",
      "Accuracy after query 31: 0.7157\n",
      "Accuracy after query 32: 0.7157\n",
      "Accuracy after query 33: 0.7135\n",
      "Accuracy after query 34: 0.7201\n",
      "Accuracy after query 35: 0.7168\n",
      "Accuracy after query 36: 0.7124\n",
      "Accuracy after query 37: 0.7124\n",
      "Accuracy after query 38: 0.7058\n",
      "Accuracy after query 39: 0.6937\n",
      "Accuracy after query 40: 0.7146\n",
      "Accuracy after query 41: 0.7047\n",
      "Accuracy after query 42: 0.7102\n",
      "Accuracy after query 43: 0.7058\n",
      "Accuracy after query 44: 0.6992\n",
      "Accuracy after query 45: 0.7102\n",
      "Accuracy after query 46: 0.7091\n",
      "Accuracy after query 47: 0.7113\n",
      "Accuracy after query 48: 0.7091\n",
      "Accuracy after query 49: 0.7014\n",
      "Accuracy after query 50: 0.7146\n",
      "Accuracy after query 51: 0.7080\n",
      "Accuracy after query 52: 0.7003\n",
      "Accuracy after query 53: 0.7091\n",
      "Accuracy after query 54: 0.7014\n",
      "Accuracy after query 55: 0.6948\n",
      "Accuracy after query 56: 0.7025\n",
      "Accuracy after query 57: 0.6948\n",
      "Accuracy after query 58: 0.7036\n",
      "Accuracy after query 59: 0.7047\n",
      "Accuracy after query 60: 0.7091\n",
      "Accuracy after query 61: 0.7058\n",
      "Accuracy after query 62: 0.7080\n",
      "Accuracy after query 63: 0.6948\n",
      "Accuracy after query 64: 0.6915\n",
      "Accuracy after query 65: 0.7102\n",
      "Accuracy after query 66: 0.7047\n",
      "Accuracy after query 67: 0.6926\n",
      "Accuracy after query 68: 0.6894\n",
      "Accuracy after query 69: 0.6981\n",
      "Accuracy after query 70: 0.6981\n",
      "Accuracy after query 71: 0.6905\n",
      "Accuracy after query 72: 0.6905\n",
      "Accuracy after query 73: 0.6861\n",
      "Accuracy after query 74: 0.6850\n",
      "Accuracy after query 75: 0.6850\n",
      "Accuracy after query 76: 0.6861\n",
      "Accuracy after query 77: 0.6861\n",
      "Accuracy after query 78: 0.6937\n",
      "Accuracy after query 79: 0.6937\n",
      "Accuracy after query 80: 0.6905\n",
      "Accuracy after query 81: 0.6707\n",
      "Accuracy after query 82: 0.6915\n",
      "Accuracy after query 83: 0.6905\n",
      "Accuracy after query 84: 0.6937\n",
      "Accuracy after query 85: 0.6795\n",
      "Accuracy after query 86: 0.6828\n",
      "Accuracy after query 87: 0.6905\n",
      "Accuracy after query 88: 0.6828\n",
      "Accuracy after query 89: 0.6850\n",
      "Accuracy after query 90: 0.6817\n",
      "Accuracy after query 91: 0.6894\n",
      "Accuracy after query 92: 0.6839\n",
      "Accuracy after query 93: 0.6751\n",
      "Accuracy after query 94: 0.6817\n",
      "Accuracy after query 95: 0.6861\n",
      "Accuracy after query 96: 0.6806\n",
      "Accuracy after query 97: 0.6872\n",
      "Accuracy after query 98: 0.6883\n",
      "Accuracy after query 99: 0.6894\n",
      "Accuracy after query 100: 0.6718\n"
     ]
    }
   ],
   "metadata": {}
  },
  {
   "cell_type": "code",
   "execution_count": 19,
   "source": [
    "direct_trainning_score = cross_val_score(RandomForestClassifier(),X_initial,y_initial,cv=4)"
   ],
   "outputs": [],
   "metadata": {}
  },
  {
   "cell_type": "code",
   "execution_count": 24,
   "source": [
    "direct_trainning_score"
   ],
   "outputs": [
    {
     "output_type": "execute_result",
     "data": {
      "text/plain": [
       "array([0.76754386, 0.78901099, 0.77142857, 0.78681319])"
      ]
     },
     "metadata": {},
     "execution_count": 24
    }
   ],
   "metadata": {}
  },
  {
   "cell_type": "code",
   "execution_count": 25,
   "source": [
    "direct_trainning_score_decision_tree = cross_val_score(DecisionTreeClassifier(),X_initial,y_initial,cv=4)"
   ],
   "outputs": [],
   "metadata": {}
  },
  {
   "cell_type": "code",
   "execution_count": 26,
   "source": [
    "direct_trainning_score_decision_tree"
   ],
   "outputs": [
    {
     "output_type": "execute_result",
     "data": {
      "text/plain": [
       "array([0.74342105, 0.75164835, 0.76923077, 0.76703297])"
      ]
     },
     "metadata": {},
     "execution_count": 26
    }
   ],
   "metadata": {}
  },
  {
   "cell_type": "markdown",
   "source": [
    "a funny thing came out, the active learning strategies seems to wrose the accuracy"
   ],
   "metadata": {}
  },
  {
   "cell_type": "markdown",
   "source": [
    "let's see whether the accuracy is already the best randomforrst can get, we will create another even bigger training set"
   ],
   "metadata": {}
  },
  {
   "cell_type": "code",
   "execution_count": 27,
   "source": [
    "X_4000, y_4000 = lee.PerformanceHandler.train_dataset_with_random_features(X,y,RandomForestClassifier(),4000)#get a dataset with size of 4000"
   ],
   "outputs": [],
   "metadata": {}
  },
  {
   "cell_type": "code",
   "execution_count": 28,
   "source": [
    "direct_trainning_score_4000 = cross_val_score(RandomForestClassifier(),X_4000,y_4000,cv=4)"
   ],
   "outputs": [],
   "metadata": {}
  },
  {
   "cell_type": "code",
   "execution_count": 29,
   "source": [
    "direct_trainning_score_4000"
   ],
   "outputs": [
    {
     "output_type": "execute_result",
     "data": {
      "text/plain": [
       "array([0.84252874, 0.83889528, 0.83544304, 0.82508631])"
      ]
     },
     "metadata": {},
     "execution_count": 29
    }
   ],
   "metadata": {}
  },
  {
   "cell_type": "code",
   "execution_count": 30,
   "source": [
    "direct_trainning_score_decision_tree_4000 = cross_val_score(DecisionTreeClassifier(),X_4000,y_4000,cv=4)"
   ],
   "outputs": [],
   "metadata": {}
  },
  {
   "cell_type": "code",
   "execution_count": 31,
   "source": [
    "direct_trainning_score_decision_tree_4000"
   ],
   "outputs": [
    {
     "output_type": "execute_result",
     "data": {
      "text/plain": [
       "array([0.82873563, 0.81933257, 0.80552359, 0.80322209])"
      ]
     },
     "metadata": {},
     "execution_count": 31
    }
   ],
   "metadata": {}
  },
  {
   "cell_type": "markdown",
   "source": [
    "so basically we are not reach the performance limit of randomforrest, and the problem belongs to AL\r\n",
    "but still let's first reduce the dataset, and see what will happen if we have a rather small dataset"
   ],
   "metadata": {}
  },
  {
   "cell_type": "code",
   "execution_count": 32,
   "source": [
    "X_initial_400, y_initial_400 = lee.PerformanceHandler.train_dataset_with_random_features(X,y,RandomForestClassifier(),400)#get a dataset with size of 400\r\n",
    "X_train,X_test,y_train,y_test = train_test_split(X_initial_400,y_initial_400,test_size=0.5)\r\n",
    "X_pool = lee.PerformanceHandler.pool_generator(X_initial,2000)\r\n",
    "X_pool = np.array(X_pool)\r\n",
    "N_QUERIES = 100\r\n",
    "X_train =np.array(X_train)\r\n",
    "y_train = np.array(y_train)\r\n",
    "learner = ActiveLearner(estimator=DecisionTreeClassifier(),X_training=X_train,y_training=y_train)\r\n",
    "unqueried_score = [learner.score(X_test, y_test)]\r\n",
    "performance_history = [unqueried_score]\r\n",
    "\r\n",
    "# Allow our model to query our unlabeled dataset for the most\r\n",
    "# informative points according to our query strategy (uncertainty sampling).\r\n",
    "for index in range(N_QUERIES):\r\n",
    "  query_index, query_instance = learner.query(X_pool)\r\n",
    "\r\n",
    "  # Teach our ActiveLearner model the record it has requested.\r\n",
    "  X_Iterate = X.iloc[:,query_instance[0].tolist()]\r\n",
    "  y_new = np.array([Change_float_into_classes(cross_val_score(estimator=RandomForestClassifier(),X = X_Iterate,y = y,cv=5,n_jobs=-1).mean())], dtype=int)\r\n",
    "  X_1, y_1 = X_pool[query_index].reshape(1, -1), y_new.reshape(1,)\r\n",
    "  learner.teach(X=X_1, y=y_1)\r\n",
    "  # Remove the queried instance from the unlabeled pool.\r\n",
    "  X_pool = np.delete(X_pool, query_index, axis=0)\r\n",
    "  # Calculate and report our model's accuracy.\r\n",
    "  model_accuracy = learner.score(X_test, y_test)\r\n",
    "  print('Accuracy after query {n}: {acc:0.4f}'.format(n=index + 1, acc=model_accuracy))\r\n",
    "\r\n",
    "  # Save our model's performance for plotting.\r\n",
    "  performance_history.append(model_accuracy)"
   ],
   "outputs": [
    {
     "output_type": "stream",
     "name": "stdout",
     "text": [
      "Accuracy after query 1: 0.5684\n",
      "Accuracy after query 2: 0.5632\n",
      "Accuracy after query 3: 0.5632\n",
      "Accuracy after query 4: 0.5421\n",
      "Accuracy after query 5: 0.5316\n",
      "Accuracy after query 6: 0.5684\n",
      "Accuracy after query 7: 0.5684\n",
      "Accuracy after query 8: 0.5737\n",
      "Accuracy after query 9: 0.5632\n",
      "Accuracy after query 10: 0.5526\n",
      "Accuracy after query 11: 0.5105\n",
      "Accuracy after query 12: 0.4947\n",
      "Accuracy after query 13: 0.5368\n",
      "Accuracy after query 14: 0.4895\n",
      "Accuracy after query 15: 0.5632\n",
      "Accuracy after query 16: 0.5526\n",
      "Accuracy after query 17: 0.5526\n",
      "Accuracy after query 18: 0.5474\n",
      "Accuracy after query 19: 0.5263\n",
      "Accuracy after query 20: 0.5158\n",
      "Accuracy after query 21: 0.5158\n",
      "Accuracy after query 22: 0.5579\n",
      "Accuracy after query 23: 0.5158\n",
      "Accuracy after query 24: 0.4789\n",
      "Accuracy after query 25: 0.5105\n",
      "Accuracy after query 26: 0.5053\n",
      "Accuracy after query 27: 0.5263\n",
      "Accuracy after query 28: 0.5263\n",
      "Accuracy after query 29: 0.4895\n",
      "Accuracy after query 30: 0.4895\n",
      "Accuracy after query 31: 0.4947\n",
      "Accuracy after query 32: 0.4895\n",
      "Accuracy after query 33: 0.4632\n",
      "Accuracy after query 34: 0.4895\n",
      "Accuracy after query 35: 0.5000\n",
      "Accuracy after query 36: 0.4684\n",
      "Accuracy after query 37: 0.4684\n",
      "Accuracy after query 38: 0.4737\n",
      "Accuracy after query 39: 0.4684\n",
      "Accuracy after query 40: 0.5000\n",
      "Accuracy after query 41: 0.4474\n",
      "Accuracy after query 42: 0.5316\n",
      "Accuracy after query 43: 0.5053\n",
      "Accuracy after query 44: 0.4895\n",
      "Accuracy after query 45: 0.5158\n",
      "Accuracy after query 46: 0.5000\n",
      "Accuracy after query 47: 0.4474\n",
      "Accuracy after query 48: 0.4632\n",
      "Accuracy after query 49: 0.4526\n",
      "Accuracy after query 50: 0.5263\n",
      "Accuracy after query 51: 0.4526\n",
      "Accuracy after query 52: 0.4684\n",
      "Accuracy after query 53: 0.4579\n",
      "Accuracy after query 54: 0.4474\n",
      "Accuracy after query 55: 0.4737\n",
      "Accuracy after query 56: 0.4474\n",
      "Accuracy after query 57: 0.4737\n",
      "Accuracy after query 58: 0.4579\n",
      "Accuracy after query 59: 0.4789\n",
      "Accuracy after query 60: 0.4632\n",
      "Accuracy after query 61: 0.4947\n",
      "Accuracy after query 62: 0.5000\n",
      "Accuracy after query 63: 0.4842\n",
      "Accuracy after query 64: 0.4632\n",
      "Accuracy after query 65: 0.4632\n",
      "Accuracy after query 66: 0.4947\n",
      "Accuracy after query 67: 0.4737\n",
      "Accuracy after query 68: 0.4737\n",
      "Accuracy after query 69: 0.4842\n",
      "Accuracy after query 70: 0.4684\n",
      "Accuracy after query 71: 0.4526\n",
      "Accuracy after query 72: 0.4632\n",
      "Accuracy after query 73: 0.4632\n",
      "Accuracy after query 74: 0.4632\n",
      "Accuracy after query 75: 0.4579\n",
      "Accuracy after query 76: 0.5000\n",
      "Accuracy after query 77: 0.4632\n",
      "Accuracy after query 78: 0.4632\n",
      "Accuracy after query 79: 0.4842\n",
      "Accuracy after query 80: 0.4737\n",
      "Accuracy after query 81: 0.4421\n",
      "Accuracy after query 82: 0.4737\n",
      "Accuracy after query 83: 0.4474\n",
      "Accuracy after query 84: 0.4368\n",
      "Accuracy after query 85: 0.4316\n",
      "Accuracy after query 86: 0.4368\n",
      "Accuracy after query 87: 0.4368\n",
      "Accuracy after query 88: 0.4474\n",
      "Accuracy after query 89: 0.4421\n",
      "Accuracy after query 90: 0.4211\n",
      "Accuracy after query 91: 0.4158\n",
      "Accuracy after query 92: 0.4211\n",
      "Accuracy after query 93: 0.4474\n",
      "Accuracy after query 94: 0.4053\n",
      "Accuracy after query 95: 0.4316\n",
      "Accuracy after query 96: 0.4105\n",
      "Accuracy after query 97: 0.4000\n",
      "Accuracy after query 98: 0.4263\n",
      "Accuracy after query 99: 0.4053\n",
      "Accuracy after query 100: 0.4474\n"
     ]
    }
   ],
   "metadata": {}
  },
  {
   "cell_type": "code",
   "execution_count": null,
   "source": [],
   "outputs": [],
   "metadata": {}
  }
 ],
 "metadata": {
  "orig_nbformat": 4,
  "language_info": {
   "name": "python",
   "version": "3.8.11",
   "mimetype": "text/x-python",
   "codemirror_mode": {
    "name": "ipython",
    "version": 3
   },
   "pygments_lexer": "ipython3",
   "nbconvert_exporter": "python",
   "file_extension": ".py"
  },
  "kernelspec": {
   "name": "python3",
   "display_name": "Python 3.8.11 64-bit ('FeatureSelectionExperiment': conda)"
  },
  "interpreter": {
   "hash": "b4c63dd091bef004586a4a0c953eab439c472c769fb6fc11672657d69a9bbdbc"
  }
 },
 "nbformat": 4,
 "nbformat_minor": 2
}